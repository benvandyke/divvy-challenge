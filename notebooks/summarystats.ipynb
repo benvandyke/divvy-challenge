{
 "metadata": {
  "name": ""
 },
 "nbformat": 3,
 "nbformat_minor": 0,
 "worksheets": [
  {
   "cells": [
    {
     "cell_type": "markdown",
     "metadata": {},
     "source": [
      "Station Summary Statistics\n",
      "==========================\n",
      "\n",
      "Computing summary statistics such as means and medians is one of the first tasks typically performed when analyzing a dataset. Pandas offers a variety of summary functions that can be applied to DataFrames to quickly gain insight into the shape of the data. [Ranks](http://pandas.pydata.org/pandas-docs/stable/generated/pandas.DataFrame.rank.html) are also computed for each metric in descending order, the station with the most trips will be ranked first relative to other stations. \n",
      "\n",
      "The [merge](http://pandas.pydata.org/pandas-docs/stable/merging.html) function in pandas is used in this notebook to join the geo data from the stations file with trips file. Geo data is an input to the distance estimating function. \n",
      "\n",
      "The data generated in this notebook powers the summary statistics and ranks in the visualization."
     ]
    },
    {
     "cell_type": "code",
     "collapsed": false,
     "input": [
      "from __future__ import print_function, division\n",
      "import pandas as pd\n",
      "import locale\n",
      "import datetime\n",
      "import numpy as np"
     ],
     "language": "python",
     "metadata": {},
     "outputs": [],
     "prompt_number": 2
    },
    {
     "cell_type": "code",
     "collapsed": false,
     "input": [
      "trips = pd.read_csv('../data/Divvy_Stations_Trips_2013/Divvy_Trips_2013.csv')\n",
      "stations = pd.read_csv('../data/Divvy_Stations_Trips_2013/Divvy_Stations_2013.csv')\n",
      "# Convert to numeric\n",
      "trips.from_station_id = trips.from_station_id.convert_objects(convert_numeric=True)\n",
      "trips.to_station_id = trips.to_station_id.convert_objects(convert_numeric=True)\n",
      "\n",
      "# Convert trip duration to numeric\n",
      "locale.setlocale(locale.LC_NUMERIC, '')\n",
      "trips.tripduration = trips.tripduration.apply(locale.atof)\n",
      "\n",
      "# Convert date columns to pandas datetime objects\n",
      "trips.starttime = pd.to_datetime(trips.starttime)\n",
      "trips.stoptime = pd.to_datetime(trips.stoptime)"
     ],
     "language": "python",
     "metadata": {},
     "outputs": [
      {
       "output_type": "stream",
       "stream": "stderr",
       "text": [
        "/usr/local/lib/python2.7/dist-packages/pandas/io/parsers.py:1070: DtypeWarning: Columns (10) have mixed types. Specify dtype option on import or set low_memory=False.\n",
        "  data = self._reader.read(nrows)\n"
       ]
      }
     ],
     "prompt_number": 3
    },
    {
     "cell_type": "code",
     "collapsed": false,
     "input": [
      "# Compute member age\n",
      "trips['age'] = 2013 - trips.birthyear"
     ],
     "language": "python",
     "metadata": {},
     "outputs": [],
     "prompt_number": 4
    },
    {
     "cell_type": "markdown",
     "metadata": {},
     "source": [
      "Distance Estimation\n",
      "-------------------\n",
      "\n",
      "To estimate distance I used the [Manhattan Distance](http://en.wikipedia.org/wiki/Taxicab_geometry) formula. This measures the distance between two points as Cartesian coordinates and does not take into account curvature of the earth such as [great cicle distance](http://en.wikipedia.org/wiki/Great-circle_distance), but it probably better reflects how people actually move through the city's square blocks."
     ]
    },
    {
     "cell_type": "code",
     "collapsed": false,
     "input": [
      "# Manhattan distance formula\n",
      "def manhattan_dist(lat1, lat2, lon1, lon2):\n",
      "    return (abs(lat2 - lat1) + abs(lon2 - lon1)) * 111 / 1.6\n",
      "\n",
      "# Add lat and lon to the trips table to calculate distances\n",
      "trips_geo = pd.merge(trips,stations,left_on='from_station_name',right_on='name')\n",
      "trips_geo = pd.merge(trips_geo,stations,left_on='to_station_name',right_on='name')"
     ],
     "language": "python",
     "metadata": {},
     "outputs": [],
     "prompt_number": 8
    },
    {
     "cell_type": "code",
     "collapsed": false,
     "input": [
      "dist_func = lambda x: manhattan_dist(x['latitude_x'], x['latitude_y'],\n",
      "                                     x['longitude_x'], x['longitude_y'])\n",
      "trips_geo['dist'] = trips_geo.apply(dist_func, axis=1)"
     ],
     "language": "python",
     "metadata": {},
     "outputs": [],
     "prompt_number": 9
    },
    {
     "cell_type": "markdown",
     "metadata": {},
     "source": [
      "Days in Operation\n",
      "-----------------\n",
      "\n",
      "The Divvy station rollout was in phases, some stations came online much later than the initial rollout in June and have lower absolute numbers of trips. Assuming someone used the station the first day it was installed, the number of days in operation can be calculated to correct the number of daily trips for stations open for varying lengths of time."
     ]
    },
    {
     "cell_type": "code",
     "collapsed": false,
     "input": [
      "# Days in operation\n",
      "first_tr_dt = trips_geo.groupby(by=['from_station_name'])['starttime'].min()\n",
      "op_days = first_tr_dt.apply(lambda x: (datetime.datetime(2013,12,31,0,0,0)- x).days)"
     ],
     "language": "python",
     "metadata": {},
     "outputs": [],
     "prompt_number": 10
    },
    {
     "cell_type": "code",
     "collapsed": false,
     "input": [
      "# Count the number of trips and take the median of the other metrics\n",
      "daily = trips_geo.groupby(by=['from_station_name'])['trip_id'].count()\n",
      "dist = trips_geo.groupby(by=['from_station_name'])['dist'].median()\n",
      "duration = trips_geo.groupby(by=['from_station_name'])['tripduration'].median()\n",
      "age = trips_geo.groupby(by=['from_station_name'])['age'].median()"
     ],
     "language": "python",
     "metadata": {},
     "outputs": [],
     "prompt_number": 11
    },
    {
     "cell_type": "code",
     "collapsed": false,
     "input": [
      "# Create rank Series' for each\n",
      "dly_rank = daily.rank(method='first', ascending=False)\n",
      "dst_rank = dist.rank(method='first', ascending=False)\n",
      "age_rank = age.rank(method='first', ascending=False)\n",
      "dur_rank = duration.rank(method='first', ascending=False)"
     ],
     "language": "python",
     "metadata": {},
     "outputs": [],
     "prompt_number": 12
    },
    {
     "cell_type": "code",
     "collapsed": false,
     "input": [
      "# Summaraize into one DataFrame\n",
      "df = pd.DataFrame(np.round(daily / op_days, decimals=1))\n",
      "df.rename(columns={0: 'dailytrips'}, inplace=True)\n",
      "df['tripranks'] = dly_rank\n",
      "df['dist'] = np.round(dist, decimals=1)\n",
      "df['distranks'] = dst_rank\n",
      "df['duration'] = np.round(duration / 60, decimals=1)\n",
      "df['durranks'] = dur_rank\n",
      "df['age'] = age\n",
      "df['ageranks'] = age_rank\n",
      "df.head()"
     ],
     "language": "python",
     "metadata": {},
     "outputs": [
      {
       "html": [
        "<div style=\"max-height:1000px;max-width:1500px;overflow:auto;\">\n",
        "<table border=\"1\" class=\"dataframe\">\n",
        "  <thead>\n",
        "    <tr style=\"text-align: right;\">\n",
        "      <th></th>\n",
        "      <th>dailytrips</th>\n",
        "      <th>tripranks</th>\n",
        "      <th>dist</th>\n",
        "      <th>distranks</th>\n",
        "      <th>duration</th>\n",
        "      <th>durranks</th>\n",
        "      <th>age</th>\n",
        "      <th>ageranks</th>\n",
        "    </tr>\n",
        "    <tr>\n",
        "      <th>from_station_name</th>\n",
        "      <th></th>\n",
        "      <th></th>\n",
        "      <th></th>\n",
        "      <th></th>\n",
        "      <th></th>\n",
        "      <th></th>\n",
        "      <th></th>\n",
        "      <th></th>\n",
        "    </tr>\n",
        "  </thead>\n",
        "  <tbody>\n",
        "    <tr>\n",
        "      <th>900 W Harrison</th>\n",
        "      <td> 11.1</td>\n",
        "      <td> 142</td>\n",
        "      <td> 0.9</td>\n",
        "      <td> 289</td>\n",
        "      <td>  7.8</td>\n",
        "      <td> 294</td>\n",
        "      <td> 34</td>\n",
        "      <td>  71</td>\n",
        "    </tr>\n",
        "    <tr>\n",
        "      <th>Aberdeen St &amp; Jackson Blvd</th>\n",
        "      <td> 15.0</td>\n",
        "      <td>  86</td>\n",
        "      <td> 1.4</td>\n",
        "      <td> 190</td>\n",
        "      <td> 10.2</td>\n",
        "      <td> 244</td>\n",
        "      <td> 33</td>\n",
        "      <td> 101</td>\n",
        "    </tr>\n",
        "    <tr>\n",
        "      <th>Aberdeen St &amp; Madison St</th>\n",
        "      <td> 22.7</td>\n",
        "      <td>  57</td>\n",
        "      <td> 1.3</td>\n",
        "      <td> 213</td>\n",
        "      <td>  9.2</td>\n",
        "      <td> 270</td>\n",
        "      <td> 34</td>\n",
        "      <td>  72</td>\n",
        "    </tr>\n",
        "    <tr>\n",
        "      <th>Ada St &amp; Washington Blvd</th>\n",
        "      <td>  6.9</td>\n",
        "      <td> 239</td>\n",
        "      <td> 1.4</td>\n",
        "      <td> 173</td>\n",
        "      <td>  8.7</td>\n",
        "      <td> 282</td>\n",
        "      <td> 35</td>\n",
        "      <td>  51</td>\n",
        "    </tr>\n",
        "    <tr>\n",
        "      <th>Adler Planetarium</th>\n",
        "      <td>  6.4</td>\n",
        "      <td> 168</td>\n",
        "      <td> 2.0</td>\n",
        "      <td>  65</td>\n",
        "      <td> 23.3</td>\n",
        "      <td>   6</td>\n",
        "      <td> 31</td>\n",
        "      <td> 181</td>\n",
        "    </tr>\n",
        "  </tbody>\n",
        "</table>\n",
        "<p>5 rows \u00d7 8 columns</p>\n",
        "</div>"
       ],
       "metadata": {},
       "output_type": "pyout",
       "prompt_number": 13,
       "text": [
        "                            dailytrips  tripranks  dist  distranks  duration  \\\n",
        "from_station_name                                                              \n",
        "900 W Harrison                    11.1        142   0.9        289       7.8   \n",
        "Aberdeen St & Jackson Blvd        15.0         86   1.4        190      10.2   \n",
        "Aberdeen St & Madison St          22.7         57   1.3        213       9.2   \n",
        "Ada St & Washington Blvd           6.9        239   1.4        173       8.7   \n",
        "Adler Planetarium                  6.4        168   2.0         65      23.3   \n",
        "\n",
        "                            durranks  age  ageranks  \n",
        "from_station_name                                    \n",
        "900 W Harrison                   294   34        71  \n",
        "Aberdeen St & Jackson Blvd       244   33       101  \n",
        "Aberdeen St & Madison St         270   34        72  \n",
        "Ada St & Washington Blvd         282   35        51  \n",
        "Adler Planetarium                  6   31       181  \n",
        "\n",
        "[5 rows x 8 columns]"
       ]
      }
     ],
     "prompt_number": 13
    },
    {
     "cell_type": "code",
     "collapsed": false,
     "input": [
      "df.to_csv('../data/dailytripranks.csv')"
     ],
     "language": "python",
     "metadata": {},
     "outputs": [],
     "prompt_number": 14
    }
   ],
   "metadata": {}
  }
 ]
}