{
 "metadata": {
  "name": ""
 },
 "nbformat": 3,
 "nbformat_minor": 0,
 "worksheets": [
  {
   "cells": [
    {
     "cell_type": "markdown",
     "metadata": {},
     "source": [
      "Monthly Station-level Summaries\n",
      "===============================\n",
      "\n",
      "This notebook generates the monthly time series of total trips by station. It is used in the bar chart component of the visualization. \n",
      "\n",
      "This notebook demonstrates the usage of some of the pandas datetime functionality."
     ]
    },
    {
     "cell_type": "code",
     "collapsed": false,
     "input": [
      "from __future__ import print_function, division\n",
      "import pandas as pd\n",
      "import locale\n",
      "import datetime"
     ],
     "language": "python",
     "metadata": {},
     "outputs": [],
     "prompt_number": 1
    },
    {
     "cell_type": "code",
     "collapsed": false,
     "input": [
      "trips = pd.read_csv('../data/Divvy_Stations_Trips_2013/Divvy_Trips_2013.csv')\n",
      "stations = pd.read_csv('../data/Divvy_Stations_Trips_2013/Divvy_Stations_2013.csv')\n",
      "# Convert to numeric\n",
      "trips.from_station_id = trips.from_station_id.convert_objects(convert_numeric=True)\n",
      "trips.to_station_id = trips.to_station_id.convert_objects(convert_numeric=True)\n",
      "\n",
      "# Convert trip duration to numeric\n",
      "locale.setlocale(locale.LC_NUMERIC, '')\n",
      "trips.tripduration = trips.tripduration.apply(locale.atof)\n",
      "\n",
      "# Convert date columns to pandas datetime objects\n",
      "trips.starttime = pd.to_datetime(trips.starttime)\n",
      "trips.stoptime = pd.to_datetime(trips.stoptime)"
     ],
     "language": "python",
     "metadata": {},
     "outputs": [
      {
       "output_type": "stream",
       "stream": "stderr",
       "text": [
        "/usr/local/lib/python2.7/dist-packages/pandas/io/parsers.py:1070: DtypeWarning: Columns (10) have mixed types. Specify dtype option on import or set low_memory=False.\n",
        "  data = self._reader.read(nrows)\n"
       ]
      }
     ],
     "prompt_number": 5
    },
    {
     "cell_type": "code",
     "collapsed": false,
     "input": [
      "# Create a month column by applying the datetime month attribute\n",
      "trips['mth'] = trips.starttime.apply(lambda x: x.month)"
     ],
     "language": "python",
     "metadata": {},
     "outputs": [],
     "prompt_number": 6
    },
    {
     "cell_type": "code",
     "collapsed": false,
     "input": [
      "# Group by from_station_name and month and generate a data frame\n",
      "mf = pd.DataFrame(trips.groupby(by=['from_station_name', 'mth'])['trip_id'].count())\n",
      "# Rename summary column to reflect contents\n",
      "mf.rename(columns={0: 'mthlytrips'}, inplace=True)"
     ],
     "language": "python",
     "metadata": {},
     "outputs": [],
     "prompt_number": 7
    },
    {
     "cell_type": "code",
     "collapsed": false,
     "input": [
      "# And that's it\n",
      "mf.to_csv('../data/mnthlytrips.csv')"
     ],
     "language": "python",
     "metadata": {},
     "outputs": [],
     "prompt_number": 10
    },
    {
     "cell_type": "code",
     "collapsed": false,
     "input": [],
     "language": "python",
     "metadata": {},
     "outputs": []
    }
   ],
   "metadata": {}
  }
 ]
}