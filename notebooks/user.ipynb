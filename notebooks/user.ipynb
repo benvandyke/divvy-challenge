{
 "metadata": {
  "name": ""
 },
 "nbformat": 3,
 "nbformat_minor": 0,
 "worksheets": [
  {
   "cells": [
    {
     "cell_type": "markdown",
     "metadata": {},
     "source": [
      "Station-level User Summaries\n",
      "=============================================\n",
      "\n",
      "This notebook generates the station-level summaries of the split between customers/subscribers (daily pass users vs. Divvy Members) and the gender of the subscriber trips. This is the data underlying the donut charts in the visualization."
     ]
    },
    {
     "cell_type": "code",
     "collapsed": false,
     "input": [
      "from __future__ import print_function, division\n",
      "import pandas as pd"
     ],
     "language": "python",
     "metadata": {},
     "outputs": [],
     "prompt_number": 1
    },
    {
     "cell_type": "code",
     "collapsed": false,
     "input": [
      "# Standard data import\n",
      "trips = pd.read_csv('../data/Divvy_Stations_Trips_2013/Divvy_Trips_2013.csv')\n",
      "stations = pd.read_csv('../data/ivvy_Stations_Trips_2013/Divvy_Stations_2013.csv')\n",
      "# Convert to numeric\n",
      "trips.from_station_id = trips.from_station_id.convert_objects(convert_numeric=True)\n",
      "trips.to_station_id = trips.to_station_id.convert_objects(convert_numeric=True)"
     ],
     "language": "python",
     "metadata": {},
     "outputs": [
      {
       "output_type": "stream",
       "stream": "stderr",
       "text": [
        "/usr/local/lib/python2.7/dist-packages/pandas/io/parsers.py:1070: DtypeWarning: Columns (10) have mixed types. Specify dtype option on import or set low_memory=False.\n",
        "  data = self._reader.read(nrows)\n"
       ]
      }
     ],
     "prompt_number": 2
    },
    {
     "cell_type": "code",
     "collapsed": false,
     "input": [
      "# Group by from_station_name and gender\n",
      "# Convert pandas groupby into a DataFrame\n",
      "gf = pd.DataFrame(trips.groupby(by=['from_station_name','gender'])['trip_id'].count())\n",
      "# Rename the summary column\n",
      "gf.rename(columns={0:'trips'}, inplace=True)\n",
      "# Write to csv\n",
      "gf.to_csv('../data/gender.csv')"
     ],
     "language": "python",
     "metadata": {},
     "outputs": [],
     "prompt_number": 3
    },
    {
     "cell_type": "code",
     "collapsed": false,
     "input": [
      "# Repeat same steps but grouping by usertype instead of gender\n",
      "uf = pd.DataFrame(trips.groupby(by=['from_station_name','usertype'])['trip_id'].count())\n",
      "uf.rename(columns={0:'trips'}, inplace=True)\n",
      "uf.to_csv('../data/user.csv')"
     ],
     "language": "python",
     "metadata": {},
     "outputs": [],
     "prompt_number": 4
    },
    {
     "cell_type": "code",
     "collapsed": false,
     "input": [],
     "language": "python",
     "metadata": {},
     "outputs": []
    }
   ],
   "metadata": {}
  }
 ]
}