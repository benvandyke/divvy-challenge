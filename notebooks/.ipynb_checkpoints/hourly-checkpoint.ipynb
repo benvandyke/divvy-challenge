{
 "metadata": {
  "name": ""
 },
 "nbformat": 3,
 "nbformat_minor": 0,
 "worksheets": [
  {
   "cells": [
    {
     "cell_type": "markdown",
     "metadata": {},
     "source": [
      "Hourly Distribution of Inbound and Outbound Trips\n",
      "=================================================\n",
      "\n",
      "Some Divvy stations, particularly those heavily used by commuters, see significant imbalance in inbound and outbound trips throughout the day. Knowing the hourly usage pattern for a station allows for proactive rebalancing to prevent service disruption by not having available bikes when demand is high.\n",
      "\n",
      "This notebook demonstrates the [concat](http://pandas.pydata.org/pandas-docs/stable/merging.html) function of pandas which is useful for joining DataFrames that share the same index. It works similar to a join in SQL. \n",
      "\n",
      "This data powers the time distribution area charts of the visualization."
     ]
    },
    {
     "cell_type": "code",
     "collapsed": false,
     "input": [
      "from __future__ import print_function, division\n",
      "import pandas as pd\n",
      "import locale\n",
      "import datetime"
     ],
     "language": "python",
     "metadata": {},
     "outputs": [],
     "prompt_number": 1
    },
    {
     "cell_type": "code",
     "collapsed": false,
     "input": [
      "trips = pd.read_csv('../data/Divvy_Stations_Trips_2013/Divvy_Trips_2013.csv')\n",
      "stations = pd.read_csv('../data/Divvy_Stations_Trips_2013/Divvy_Stations_2013.csv')\n",
      "# Convert to numeric\n",
      "trips.from_station_id = trips.from_station_id.convert_objects(convert_numeric=True)\n",
      "trips.to_station_id = trips.to_station_id.convert_objects(convert_numeric=True)\n",
      "\n",
      "# Convert trip duration to numeric\n",
      "locale.setlocale(locale.LC_NUMERIC, '')\n",
      "trips.tripduration = trips.tripduration.apply(locale.atof)\n",
      "\n",
      "# Convert date columns to pandas datetime objects\n",
      "trips.starttime = pd.to_datetime(trips.starttime)\n",
      "trips.stoptime = pd.to_datetime(trips.stoptime)"
     ],
     "language": "python",
     "metadata": {},
     "outputs": [
      {
       "output_type": "stream",
       "stream": "stderr",
       "text": [
        "/usr/local/lib/python2.7/dist-packages/pandas/io/parsers.py:1070: DtypeWarning: Columns (10) have mixed types. Specify dtype option on import or set low_memory=False.\n",
        "  data = self._reader.read(nrows)\n"
       ]
      }
     ],
     "prompt_number": 2
    },
    {
     "cell_type": "code",
     "collapsed": false,
     "input": [
      "# Create an hour column by getting the hour attribute from starttime\n",
      "trips['hour'] = trips.starttime.apply(lambda x: x.time().hour)"
     ],
     "language": "python",
     "metadata": {},
     "outputs": [],
     "prompt_number": 3
    },
    {
     "cell_type": "code",
     "collapsed": false,
     "input": [
      "# Create two groups, one for outbounf and one for inbound\n",
      "# Group both by hour\n",
      "from_group = trips.groupby(by=['from_station_name','hour'])['trip_id'].count()\n",
      "to_group = trips.groupby(by=['to_station_name','hour'])['trip_id'].count()"
     ],
     "language": "python",
     "metadata": {},
     "outputs": [],
     "prompt_number": 4
    },
    {
     "cell_type": "code",
     "collapsed": false,
     "input": [
      "# Merge together, pandas automatically joins on the shared index\n",
      "hourly_frame = pd.concat([from_group, to_group], axis=1)"
     ],
     "language": "python",
     "metadata": {},
     "outputs": [],
     "prompt_number": 5
    },
    {
     "cell_type": "code",
     "collapsed": false,
     "input": [
      "# Rename the columns\n",
      "hourly_frame.index.names = ['station', 'hour']\n",
      "hourly_frame.rename(columns={0:'fromtrips', 1:'totrips'}, inplace=True)"
     ],
     "language": "python",
     "metadata": {},
     "outputs": [],
     "prompt_number": 6
    },
    {
     "cell_type": "code",
     "collapsed": false,
     "input": [
      "# Fill zeros for instances where one type of trip had a value\n",
      "# but the other did not\n",
      "hourly_frame.fillna(value=0, inplace=True)"
     ],
     "language": "python",
     "metadata": {},
     "outputs": [],
     "prompt_number": 7
    },
    {
     "cell_type": "code",
     "collapsed": false,
     "input": [
      "# Reset the index to get the type of trip as a single column\n",
      "# This enables easier filtering with D3.js in the visualization\n",
      "hrly_stack = pd.DataFrame(hourly_frame.stack())\n",
      "\n",
      "# Rename columns\n",
      "hrly_stack.index.names = ['station', 'hour','type']\n",
      "hrly_stack.rename(columns={0:'trips'},inplace=True)\n",
      "\n",
      "# Divide by number of days in dataset to get daily counts\n",
      "hrly_stack['trips'] = np.round(hrly_stack.trips / 187, decimals=1)\n",
      "\n",
      "# See below for results of this step\n",
      "# Before each type was a column, now combined into index\n",
      "hrly_stack.head()"
     ],
     "language": "python",
     "metadata": {},
     "outputs": [
      {
       "html": [
        "<div style=\"max-height:1000px;max-width:1500px;overflow:auto;\">\n",
        "<table border=\"1\" class=\"dataframe\">\n",
        "  <thead>\n",
        "    <tr style=\"text-align: right;\">\n",
        "      <th></th>\n",
        "      <th></th>\n",
        "      <th></th>\n",
        "      <th>trips</th>\n",
        "    </tr>\n",
        "    <tr>\n",
        "      <th>station</th>\n",
        "      <th>hour</th>\n",
        "      <th>type</th>\n",
        "      <th></th>\n",
        "    </tr>\n",
        "  </thead>\n",
        "  <tbody>\n",
        "    <tr>\n",
        "      <th rowspan=\"5\" valign=\"top\">900 W Harrison</th>\n",
        "      <th rowspan=\"2\" valign=\"top\">0</th>\n",
        "      <th>fromtrips</th>\n",
        "      <td> 0.1</td>\n",
        "    </tr>\n",
        "    <tr>\n",
        "      <th>totrips</th>\n",
        "      <td> 0.0</td>\n",
        "    </tr>\n",
        "    <tr>\n",
        "      <th rowspan=\"2\" valign=\"top\">1</th>\n",
        "      <th>fromtrips</th>\n",
        "      <td> 0.1</td>\n",
        "    </tr>\n",
        "    <tr>\n",
        "      <th>totrips</th>\n",
        "      <td> 0.1</td>\n",
        "    </tr>\n",
        "    <tr>\n",
        "      <th>2</th>\n",
        "      <th>fromtrips</th>\n",
        "      <td> 0.0</td>\n",
        "    </tr>\n",
        "  </tbody>\n",
        "</table>\n",
        "<p>5 rows \u00d7 1 columns</p>\n",
        "</div>"
       ],
       "metadata": {},
       "output_type": "pyout",
       "prompt_number": 8,
       "text": [
        "                               trips\n",
        "station        hour type            \n",
        "900 W Harrison 0    fromtrips    0.1\n",
        "                    totrips      0.0\n",
        "               1    fromtrips    0.1\n",
        "                    totrips      0.1\n",
        "               2    fromtrips    0.0\n",
        "\n",
        "[5 rows x 1 columns]"
       ]
      }
     ],
     "prompt_number": 8
    },
    {
     "cell_type": "code",
     "collapsed": false,
     "input": [
      "hrly_stack.to_csv(\"../data/hourly.csv\")"
     ],
     "language": "python",
     "metadata": {},
     "outputs": [],
     "prompt_number": 9
    }
   ],
   "metadata": {}
  }
 ]
}