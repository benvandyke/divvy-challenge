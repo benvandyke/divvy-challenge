{
 "metadata": {
  "name": ""
 },
 "nbformat": 3,
 "nbformat_minor": 0,
 "worksheets": [
  {
   "cells": [
    {
     "cell_type": "markdown",
     "metadata": {},
     "source": [
      "Exploring the Divvy challenge dataset\n",
      "-------------------------------------\n",
      "\n",
      "Ideas\n",
      "\n",
      "- Customer vs subscriber behavior and trends\n",
      "- Weather impact\n",
      "- Time-of-day and weekday trends\n",
      "- Most popular routes\n",
      "- Most popular destinations from a given station\n",
      "- Demographics of subscribers\n",
      "- Time limit overage instances\n",
      "- Estimated distances traveled"
     ]
    },
    {
     "cell_type": "code",
     "collapsed": false,
     "input": [
      "import pandas as pd\n",
      "import numpy as np\n",
      "import locale\n",
      "import datetime\n",
      "import math\n",
      "from pylab import *"
     ],
     "language": "python",
     "metadata": {},
     "outputs": [],
     "prompt_number": 1
    },
    {
     "cell_type": "code",
     "collapsed": false,
     "input": [
      "# Load data\n",
      "trips = pd.read_csv('Divvy_Stations_Trips_2013/Divvy_Trips_2013.csv')\n",
      "stations = pd.read_csv('Divvy_Stations_Trips_2013/Divvy_Stations_2013.csv')"
     ],
     "language": "python",
     "metadata": {},
     "outputs": [],
     "prompt_number": 2
    },
    {
     "cell_type": "code",
     "collapsed": false,
     "input": [
      "trips.tail()"
     ],
     "language": "python",
     "metadata": {},
     "outputs": [
      {
       "html": [
        "<div style=\"max-height:1000px;max-width:1500px;overflow:auto;\">\n",
        "<table border=\"1\" class=\"dataframe\">\n",
        "  <thead>\n",
        "    <tr style=\"text-align: right;\">\n",
        "      <th></th>\n",
        "      <th>trip_id</th>\n",
        "      <th>starttime</th>\n",
        "      <th>stoptime</th>\n",
        "      <th>bikeid</th>\n",
        "      <th>tripduration</th>\n",
        "      <th>from_station_id</th>\n",
        "      <th>from_station_name</th>\n",
        "      <th>to_station_id</th>\n",
        "      <th>to_station_name</th>\n",
        "      <th>usertype</th>\n",
        "      <th>gender</th>\n",
        "      <th>birthyear</th>\n",
        "    </tr>\n",
        "  </thead>\n",
        "  <tbody>\n",
        "    <tr>\n",
        "      <th>759783</th>\n",
        "      <td> 1109257</td>\n",
        "      <td> 12/31/2013 21:12</td>\n",
        "      <td> 12/31/2013 21:16</td>\n",
        "      <td> 1917</td>\n",
        "      <td>   284</td>\n",
        "      <td> 154</td>\n",
        "      <td> Sheffield Ave &amp; Kingsbury St</td>\n",
        "      <td> 190</td>\n",
        "      <td>    Sheffield Ave &amp; Willow St</td>\n",
        "      <td> Subscriber</td>\n",
        "      <td> Female</td>\n",
        "      <td> 1983</td>\n",
        "    </tr>\n",
        "    <tr>\n",
        "      <th>759784</th>\n",
        "      <td> 1109276</td>\n",
        "      <td> 12/31/2013 21:36</td>\n",
        "      <td> 12/31/2013 22:01</td>\n",
        "      <td> 2859</td>\n",
        "      <td> 1,493</td>\n",
        "      <td> 235</td>\n",
        "      <td> Southport Ave &amp; Waveland Ave</td>\n",
        "      <td> 143</td>\n",
        "      <td>      Damen Ave &amp; Melrose Ave</td>\n",
        "      <td> Subscriber</td>\n",
        "      <td> Female</td>\n",
        "      <td> 1978</td>\n",
        "    </tr>\n",
        "    <tr>\n",
        "      <th>759785</th>\n",
        "      <td> 1109283</td>\n",
        "      <td> 12/31/2013 22:03</td>\n",
        "      <td> 12/31/2013 22:13</td>\n",
        "      <td>  198</td>\n",
        "      <td>   650</td>\n",
        "      <td> 340</td>\n",
        "      <td>  Michigan Ave &amp; Jackson Blvd</td>\n",
        "      <td>   1</td>\n",
        "      <td> Michigan Ave &amp; Washington St</td>\n",
        "      <td> Subscriber</td>\n",
        "      <td> Female</td>\n",
        "      <td> 1976</td>\n",
        "    </tr>\n",
        "    <tr>\n",
        "      <th>759786</th>\n",
        "      <td> 1109309</td>\n",
        "      <td> 12/31/2013 22:10</td>\n",
        "      <td> 12/31/2013 22:16</td>\n",
        "      <td> 2048</td>\n",
        "      <td>   346</td>\n",
        "      <td> 136</td>\n",
        "      <td>      Damen Ave &amp; Division St</td>\n",
        "      <td>  65</td>\n",
        "      <td>       Damen Ave &amp; Pierce Ave</td>\n",
        "      <td> Subscriber</td>\n",
        "      <td> Female</td>\n",
        "      <td> 1976</td>\n",
        "    </tr>\n",
        "    <tr>\n",
        "      <th>759787</th>\n",
        "      <td> 1109338</td>\n",
        "      <td> 12/31/2013 22:35</td>\n",
        "      <td> 12/31/2013 22:49</td>\n",
        "      <td> 2239</td>\n",
        "      <td>   868</td>\n",
        "      <td> 256</td>\n",
        "      <td> California Ave &amp; Division St</td>\n",
        "      <td>  65</td>\n",
        "      <td>       Damen Ave &amp; Pierce Ave</td>\n",
        "      <td> Subscriber</td>\n",
        "      <td> Female</td>\n",
        "      <td> 1978</td>\n",
        "    </tr>\n",
        "  </tbody>\n",
        "</table>\n",
        "</div>"
       ],
       "metadata": {},
       "output_type": "pyout",
       "prompt_number": 3,
       "text": [
        "        trip_id         starttime          stoptime  bikeid tripduration  \\\n",
        "759783  1109257  12/31/2013 21:12  12/31/2013 21:16    1917          284   \n",
        "759784  1109276  12/31/2013 21:36  12/31/2013 22:01    2859        1,493   \n",
        "759785  1109283  12/31/2013 22:03  12/31/2013 22:13     198          650   \n",
        "759786  1109309  12/31/2013 22:10  12/31/2013 22:16    2048          346   \n",
        "759787  1109338  12/31/2013 22:35  12/31/2013 22:49    2239          868   \n",
        "\n",
        "       from_station_id             from_station_name to_station_id  \\\n",
        "759783             154  Sheffield Ave & Kingsbury St           190   \n",
        "759784             235  Southport Ave & Waveland Ave           143   \n",
        "759785             340   Michigan Ave & Jackson Blvd             1   \n",
        "759786             136       Damen Ave & Division St            65   \n",
        "759787             256  California Ave & Division St            65   \n",
        "\n",
        "                     to_station_name    usertype  gender  birthyear  \n",
        "759783     Sheffield Ave & Willow St  Subscriber  Female       1983  \n",
        "759784       Damen Ave & Melrose Ave  Subscriber  Female       1978  \n",
        "759785  Michigan Ave & Washington St  Subscriber  Female       1976  \n",
        "759786        Damen Ave & Pierce Ave  Subscriber  Female       1976  \n",
        "759787        Damen Ave & Pierce Ave  Subscriber  Female       1978  "
       ]
      }
     ],
     "prompt_number": 3
    },
    {
     "cell_type": "code",
     "collapsed": false,
     "input": [
      "# Convert date columns to pandas datetime objects\n",
      "trips.starttime = pd.to_datetime(trips.starttime)\n",
      "trips.stoptime = pd.to_datetime(trips.stoptime)"
     ],
     "language": "python",
     "metadata": {},
     "outputs": [],
     "prompt_number": 4
    },
    {
     "cell_type": "code",
     "collapsed": false,
     "input": [
      "# Convert trip duration to numeric\n",
      "locale.setlocale(locale.LC_NUMERIC, '')\n",
      "trips.tripduration = trips.tripduration.apply(locale.atof)"
     ],
     "language": "python",
     "metadata": {},
     "outputs": [],
     "prompt_number": 5
    },
    {
     "cell_type": "code",
     "collapsed": false,
     "input": [
      "# Create an age field\n",
      "trips['age'] = 2013 - trips.birthyear"
     ],
     "language": "python",
     "metadata": {},
     "outputs": [],
     "prompt_number": 6
    },
    {
     "cell_type": "code",
     "collapsed": false,
     "input": [
      "# Join the lat/lon coordinates to the trips dataframe\n",
      "trips_lat_lon = pd.merge(trips,stations,left_on='from_station_name',right_on='name')\n",
      "trips_geo = pd.merge(trips_lat_lon,stations,left_on='to_station_name',right_on='name')"
     ],
     "language": "python",
     "metadata": {},
     "outputs": [],
     "prompt_number": 10
    },
    {
     "cell_type": "code",
     "collapsed": false,
     "input": [
      "# Haversine distance formula\n",
      "def gc_dist(lat1, lat2, lon1, lon2):\n",
      "    return 2*math.asin(sqrt((sin((radians(lat1)-radians(lat2))/2))^2 + \n",
      "                       cos(radians(lat1))*cos(radians(lat2))*(sin((radians(lon1)-radians(lon2))/2))^2))*6371/1.6\n",
      "\n",
      "# Manhattan distance formula\n",
      "def manhattan_dist(lat1, lat2, lon1, lon2):\n",
      "    return (abs(lat2 - lat1) + abs(lon2 - lon1)) * 111 / 1.6"
     ],
     "language": "python",
     "metadata": {},
     "outputs": [],
     "prompt_number": 25
    },
    {
     "cell_type": "code",
     "collapsed": false,
     "input": [
      "dist_func = lambda x: manhattan_dist(x['latitude_x'], x['latitude_y'],\n",
      "                                     x['longitude_x'], x['longitude_y'])\n",
      "\n",
      "gc_dist_func = lambda x: gc_dist(x['latitude_x'], x['latitude_y'],\n",
      "                                     x['longitude_x'], x['longitude_y'])\n",
      "\n",
      "trips_geo['dist'] = trips_geo.apply(dist_func, axis=1)\n",
      "#trips_geo['gcdist'] = trips_geo.apply(gc_dist_func, axis=1)"
     ],
     "language": "python",
     "metadata": {},
     "outputs": [],
     "prompt_number": 27
    },
    {
     "cell_type": "code",
     "collapsed": false,
     "input": [
      "# Summary statistics\n",
      "trips_geo.sort(columns=['dist'],ascending=False)[['from_station_name','to_station_name','dist','tripduration']].head()"
     ],
     "language": "python",
     "metadata": {},
     "outputs": [
      {
       "html": [
        "<div style=\"max-height:1000px;max-width:1500px;overflow:auto;\">\n",
        "<table border=\"1\" class=\"dataframe\">\n",
        "  <thead>\n",
        "    <tr style=\"text-align: right;\">\n",
        "      <th></th>\n",
        "      <th>from_station_name</th>\n",
        "      <th>to_station_name</th>\n",
        "      <th>dist</th>\n",
        "      <th>tripduration</th>\n",
        "    </tr>\n",
        "  </thead>\n",
        "  <tbody>\n",
        "    <tr>\n",
        "      <th>701822</th>\n",
        "      <td>      Lincoln Ave &amp; Eastwood Ave</td>\n",
        "      <td>      Shore Drive &amp; 55th St</td>\n",
        "      <td> 19.176152</td>\n",
        "      <td> 2491</td>\n",
        "    </tr>\n",
        "    <tr>\n",
        "      <th>145657</th>\n",
        "      <td>             Ellis Ave &amp; 58th St</td>\n",
        "      <td> Lincoln Ave &amp; Eastwood Ave</td>\n",
        "      <td> 18.194287</td>\n",
        "      <td> 1776</td>\n",
        "    </tr>\n",
        "    <tr>\n",
        "      <th>367801</th>\n",
        "      <td>      Lincoln Ave &amp; Eastwood Ave</td>\n",
        "      <td>        Ellis Ave &amp; 58th St</td>\n",
        "      <td> 18.194287</td>\n",
        "      <td> 1893</td>\n",
        "    </tr>\n",
        "    <tr>\n",
        "      <th>367802</th>\n",
        "      <td>      Lincoln Ave &amp; Eastwood Ave</td>\n",
        "      <td>        Ellis Ave &amp; 58th St</td>\n",
        "      <td> 18.194287</td>\n",
        "      <td> 1572</td>\n",
        "    </tr>\n",
        "    <tr>\n",
        "      <th>702127</th>\n",
        "      <td> Ravenswood Ave &amp; Irving Park Rd</td>\n",
        "      <td>      Shore Drive &amp; 55th St</td>\n",
        "      <td> 17.530577</td>\n",
        "      <td> 3678</td>\n",
        "    </tr>\n",
        "  </tbody>\n",
        "</table>\n",
        "</div>"
       ],
       "metadata": {},
       "output_type": "pyout",
       "prompt_number": 29,
       "text": [
        "                      from_station_name             to_station_name  \\\n",
        "701822       Lincoln Ave & Eastwood Ave       Shore Drive & 55th St   \n",
        "145657              Ellis Ave & 58th St  Lincoln Ave & Eastwood Ave   \n",
        "367801       Lincoln Ave & Eastwood Ave         Ellis Ave & 58th St   \n",
        "367802       Lincoln Ave & Eastwood Ave         Ellis Ave & 58th St   \n",
        "702127  Ravenswood Ave & Irving Park Rd       Shore Drive & 55th St   \n",
        "\n",
        "             dist  tripduration  \n",
        "701822  19.176152          2491  \n",
        "145657  18.194287          1776  \n",
        "367801  18.194287          1893  \n",
        "367802  18.194287          1572  \n",
        "702127  17.530577          3678  "
       ]
      }
     ],
     "prompt_number": 29
    },
    {
     "cell_type": "code",
     "collapsed": false,
     "input": [
      "# Find date range\n",
      "2491 / 60"
     ],
     "language": "python",
     "metadata": {},
     "outputs": [
      {
       "metadata": {},
       "output_type": "pyout",
       "prompt_number": 30,
       "text": [
        "41"
       ]
      }
     ],
     "prompt_number": 30
    },
    {
     "cell_type": "markdown",
     "metadata": {},
     "source": [
      "Quick first impressions of the data\n",
      "\n",
      "- 760k total trips\n",
      "- Average trip duration is 20.5 minutes, median is 13.5 minutes\n",
      "- 75th percentile duration is about 22.5 minutes, still well under the 30 minute time limit\n",
      "- Large outliers obvious in duration and age\n",
      "- Median member age is 33\n",
      "- Data available for 188 days beginning June 27 and ending Dec 31"
     ]
    },
    {
     "cell_type": "markdown",
     "metadata": {},
     "source": [
      "Stations and Routes\n",
      "-------------------"
     ]
    },
    {
     "cell_type": "code",
     "collapsed": false,
     "input": [
      "# Most popular station by trip origin\n",
      "trip_origins = trips[['from_station_name']].groupby(by=['from_station_name']).count()\n",
      "trip_origins.sort(columns=['from_station_name'],ascending=False)[0:10]"
     ],
     "language": "python",
     "metadata": {},
     "outputs": [
      {
       "html": [
        "<div style=\"max-height:1000px;max-width:1500px;overflow:auto;\">\n",
        "<table border=\"1\" class=\"dataframe\">\n",
        "  <thead>\n",
        "    <tr style=\"text-align: right;\">\n",
        "      <th></th>\n",
        "      <th>from_station_name</th>\n",
        "    </tr>\n",
        "    <tr>\n",
        "      <th>from_station_name</th>\n",
        "      <th></th>\n",
        "    </tr>\n",
        "  </thead>\n",
        "  <tbody>\n",
        "    <tr>\n",
        "      <th>Millennium Park</th>\n",
        "      <td> 17272</td>\n",
        "    </tr>\n",
        "    <tr>\n",
        "      <th>Streeter Dr &amp; Illinois St</th>\n",
        "      <td> 16710</td>\n",
        "    </tr>\n",
        "    <tr>\n",
        "      <th>Lake Shore Dr &amp; Monroe St</th>\n",
        "      <td> 15673</td>\n",
        "    </tr>\n",
        "    <tr>\n",
        "      <th>Clinton St &amp; Washington Blvd</th>\n",
        "      <td> 14967</td>\n",
        "    </tr>\n",
        "    <tr>\n",
        "      <th>Michigan Ave &amp; Oak St</th>\n",
        "      <td> 13274</td>\n",
        "    </tr>\n",
        "    <tr>\n",
        "      <th>Museum Campus</th>\n",
        "      <td> 12676</td>\n",
        "    </tr>\n",
        "    <tr>\n",
        "      <th>McClurg Ct &amp; Illinois St</th>\n",
        "      <td> 10847</td>\n",
        "    </tr>\n",
        "    <tr>\n",
        "      <th>Michigan Ave &amp; Lake St</th>\n",
        "      <td> 10760</td>\n",
        "    </tr>\n",
        "    <tr>\n",
        "      <th>Canal St &amp; Jackson Blvd</th>\n",
        "      <td> 10141</td>\n",
        "    </tr>\n",
        "    <tr>\n",
        "      <th>Franklin St &amp; Jackson Blvd</th>\n",
        "      <td>  9784</td>\n",
        "    </tr>\n",
        "  </tbody>\n",
        "</table>\n",
        "</div>"
       ],
       "metadata": {},
       "output_type": "pyout",
       "prompt_number": 31,
       "text": [
        "                              from_station_name\n",
        "from_station_name                              \n",
        "Millennium Park                           17272\n",
        "Streeter Dr & Illinois St                 16710\n",
        "Lake Shore Dr & Monroe St                 15673\n",
        "Clinton St & Washington Blvd              14967\n",
        "Michigan Ave & Oak St                     13274\n",
        "Museum Campus                             12676\n",
        "McClurg Ct & Illinois St                  10847\n",
        "Michigan Ave & Lake St                    10760\n",
        "Canal St & Jackson Blvd                   10141\n",
        "Franklin St & Jackson Blvd                 9784"
       ]
      }
     ],
     "prompt_number": 31
    },
    {
     "cell_type": "markdown",
     "metadata": {},
     "source": [
      "The 10 most popular stations are centered around the lakefront and major rail stations. Canal St and Jackson is the large Divvy station in front of Union Station, and Clinton St and Washington Blvd is next to Ogilvie Transportation Center. Franklin St and Jackson is the Station around the corner from Willis Tower."
     ]
    },
    {
     "cell_type": "code",
     "collapsed": false,
     "input": [
      "# Repeat with an ascending sort to find the least popular stations\n",
      "trip_origins.sort(columns=['from_station_name'])[0:10]"
     ],
     "language": "python",
     "metadata": {},
     "outputs": [
      {
       "html": [
        "<div style=\"max-height:1000px;max-width:1500px;overflow:auto;\">\n",
        "<table border=\"1\" class=\"dataframe\">\n",
        "  <thead>\n",
        "    <tr style=\"text-align: right;\">\n",
        "      <th></th>\n",
        "      <th>from_station_name</th>\n",
        "    </tr>\n",
        "    <tr>\n",
        "      <th>from_station_name</th>\n",
        "      <th></th>\n",
        "    </tr>\n",
        "  </thead>\n",
        "  <tbody>\n",
        "    <tr>\n",
        "      <th>Calumet Ave &amp; 35th St</th>\n",
        "      <td>  33</td>\n",
        "    </tr>\n",
        "    <tr>\n",
        "      <th>Cottage Grove Ave &amp; 47th St</th>\n",
        "      <td>  36</td>\n",
        "    </tr>\n",
        "    <tr>\n",
        "      <th>Western Ave &amp; 24th St</th>\n",
        "      <td>  38</td>\n",
        "    </tr>\n",
        "    <tr>\n",
        "      <th>Cottage Grove Ave &amp; 43rd St</th>\n",
        "      <td>  62</td>\n",
        "    </tr>\n",
        "    <tr>\n",
        "      <th>Halsted St &amp; 37th St</th>\n",
        "      <td> 100</td>\n",
        "    </tr>\n",
        "    <tr>\n",
        "      <th>Damen Ave &amp; Coulter St</th>\n",
        "      <td> 100</td>\n",
        "    </tr>\n",
        "    <tr>\n",
        "      <th>Indiana Ave &amp; 40th St</th>\n",
        "      <td> 122</td>\n",
        "    </tr>\n",
        "    <tr>\n",
        "      <th>Wallace Ave &amp; 35th St</th>\n",
        "      <td> 133</td>\n",
        "    </tr>\n",
        "    <tr>\n",
        "      <th>Ashland Ave &amp; 21st St</th>\n",
        "      <td> 143</td>\n",
        "    </tr>\n",
        "    <tr>\n",
        "      <th>State St &amp; 29th St</th>\n",
        "      <td> 149</td>\n",
        "    </tr>\n",
        "  </tbody>\n",
        "</table>\n",
        "</div>"
       ],
       "metadata": {},
       "output_type": "pyout",
       "prompt_number": 32,
       "text": [
        "                             from_station_name\n",
        "from_station_name                             \n",
        "Calumet Ave & 35th St                       33\n",
        "Cottage Grove Ave & 47th St                 36\n",
        "Western Ave & 24th St                       38\n",
        "Cottage Grove Ave & 43rd St                 62\n",
        "Halsted St & 37th St                       100\n",
        "Damen Ave & Coulter St                     100\n",
        "Indiana Ave & 40th St                      122\n",
        "Wallace Ave & 35th St                      133\n",
        "Ashland Ave & 21st St                      143\n",
        "State St & 29th St                         149"
       ]
      }
     ],
     "prompt_number": 32
    },
    {
     "cell_type": "markdown",
     "metadata": {},
     "source": [
      "The 10 least popular stations are all located on the southside. A quick glance at the Divvy [station map](http://divvybikes.com/stations) (as of February 2014) shows that many of these stations are located at the periphery of the Divvy service area. Overall station density on the southside is much lower as well which reduces the utility of bikeshare."
     ]
    },
    {
     "cell_type": "code",
     "collapsed": false,
     "input": [
      "# Find most popular station pairs\n",
      "group = trips[['from_station_name','to_station_name','trip_id']].groupby(by=['from_station_name','to_station_name']).count()"
     ],
     "language": "python",
     "metadata": {},
     "outputs": [],
     "prompt_number": 33
    },
    {
     "cell_type": "code",
     "collapsed": false,
     "input": [
      "group.sort(columns=['trip_id'],ascending=False).head()"
     ],
     "language": "python",
     "metadata": {},
     "outputs": [
      {
       "html": [
        "<div style=\"max-height:1000px;max-width:1500px;overflow:auto;\">\n",
        "<table border=\"1\" class=\"dataframe\">\n",
        "  <thead>\n",
        "    <tr style=\"text-align: right;\">\n",
        "      <th></th>\n",
        "      <th></th>\n",
        "      <th>from_station_name</th>\n",
        "      <th>to_station_name</th>\n",
        "      <th>trip_id</th>\n",
        "    </tr>\n",
        "    <tr>\n",
        "      <th>from_station_name</th>\n",
        "      <th>to_station_name</th>\n",
        "      <th></th>\n",
        "      <th></th>\n",
        "      <th></th>\n",
        "    </tr>\n",
        "  </thead>\n",
        "  <tbody>\n",
        "    <tr>\n",
        "      <th rowspan=\"2\" valign=\"top\">Lake Shore Dr &amp; Monroe St</th>\n",
        "      <th>Streeter Dr &amp; Illinois St</th>\n",
        "      <td> 2113</td>\n",
        "      <td> 2113</td>\n",
        "      <td> 2113</td>\n",
        "    </tr>\n",
        "    <tr>\n",
        "      <th>Lake Shore Dr &amp; Monroe St</th>\n",
        "      <td> 2101</td>\n",
        "      <td> 2101</td>\n",
        "      <td> 2101</td>\n",
        "    </tr>\n",
        "    <tr>\n",
        "      <th>Millennium Park</th>\n",
        "      <th>Millennium Park</th>\n",
        "      <td> 2001</td>\n",
        "      <td> 2001</td>\n",
        "      <td> 2001</td>\n",
        "    </tr>\n",
        "    <tr>\n",
        "      <th>Michigan Ave &amp; Oak St</th>\n",
        "      <th>Michigan Ave &amp; Oak St</th>\n",
        "      <td> 1853</td>\n",
        "      <td> 1853</td>\n",
        "      <td> 1853</td>\n",
        "    </tr>\n",
        "    <tr>\n",
        "      <th>Streeter Dr &amp; Illinois St</th>\n",
        "      <th>Streeter Dr &amp; Illinois St</th>\n",
        "      <td> 1568</td>\n",
        "      <td> 1568</td>\n",
        "      <td> 1568</td>\n",
        "    </tr>\n",
        "  </tbody>\n",
        "</table>\n",
        "</div>"
       ],
       "metadata": {},
       "output_type": "pyout",
       "prompt_number": 34,
       "text": [
        "                                                     from_station_name  \\\n",
        "from_station_name         to_station_name                                \n",
        "Lake Shore Dr & Monroe St Streeter Dr & Illinois St               2113   \n",
        "                          Lake Shore Dr & Monroe St               2101   \n",
        "Millennium Park           Millennium Park                         2001   \n",
        "Michigan Ave & Oak St     Michigan Ave & Oak St                   1853   \n",
        "Streeter Dr & Illinois St Streeter Dr & Illinois St               1568   \n",
        "\n",
        "                                                     to_station_name  trip_id  \n",
        "from_station_name         to_station_name                                      \n",
        "Lake Shore Dr & Monroe St Streeter Dr & Illinois St             2113     2113  \n",
        "                          Lake Shore Dr & Monroe St             2101     2101  \n",
        "Millennium Park           Millennium Park                       2001     2001  \n",
        "Michigan Ave & Oak St     Michigan Ave & Oak St                 1853     1853  \n",
        "Streeter Dr & Illinois St Streeter Dr & Illinois St             1568     1568  "
       ]
      }
     ],
     "prompt_number": 34
    },
    {
     "cell_type": "markdown",
     "metadata": {},
     "source": [
      "Members vs Non-Members\n",
      "----------------------"
     ]
    },
    {
     "cell_type": "code",
     "collapsed": false,
     "input": [
      "trip_cust = trips[['usertype']].groupby(by=['usertype']).count()\n",
      "trip_cust"
     ],
     "language": "python",
     "metadata": {},
     "outputs": [
      {
       "html": [
        "<div style=\"max-height:1000px;max-width:1500px;overflow:auto;\">\n",
        "<table border=\"1\" class=\"dataframe\">\n",
        "  <thead>\n",
        "    <tr style=\"text-align: right;\">\n",
        "      <th></th>\n",
        "      <th>usertype</th>\n",
        "    </tr>\n",
        "    <tr>\n",
        "      <th>usertype</th>\n",
        "      <th></th>\n",
        "    </tr>\n",
        "  </thead>\n",
        "  <tbody>\n",
        "    <tr>\n",
        "      <th>Customer</th>\n",
        "      <td> 356752</td>\n",
        "    </tr>\n",
        "    <tr>\n",
        "      <th>Subscriber</th>\n",
        "      <td> 403036</td>\n",
        "    </tr>\n",
        "  </tbody>\n",
        "</table>\n",
        "</div>"
       ],
       "metadata": {},
       "output_type": "pyout",
       "prompt_number": 35,
       "text": [
        "            usertype\n",
        "usertype            \n",
        "Customer      356752\n",
        "Subscriber    403036"
       ]
      }
     ],
     "prompt_number": 35
    },
    {
     "cell_type": "markdown",
     "metadata": {},
     "source": [
      "Subscribers took about 50,000 more trips than those who purchased day passes."
     ]
    },
    {
     "cell_type": "code",
     "collapsed": false,
     "input": [
      "# Create date and time columns for time series analysis\n",
      "trips['startdate'] = trips.starttime.apply(lambda x: x.date())\n",
      "trips['starttimetime'] = trips.starttime.apply(lambda x: x.time())"
     ],
     "language": "python",
     "metadata": {},
     "outputs": [],
     "prompt_number": 36
    },
    {
     "cell_type": "code",
     "collapsed": false,
     "input": [
      "trips_ts = trips[['startdate']].groupby(by=['startdate']).count()\n",
      "trips_ts.rename(columns={'startdate':'trips'},inplace=True)\n",
      "trips_ma = pd.rolling_mean(trips_ts.trips,7)"
     ],
     "language": "python",
     "metadata": {},
     "outputs": [],
     "prompt_number": 37
    },
    {
     "cell_type": "code",
     "collapsed": false,
     "input": [
      "# Plot rides time series\n",
      "\n",
      "ticks = np.arange(0,len(trips_ma),14)\n",
      "\n",
      "fig = plt.figure(figsize=(7,5), dpi=80)\n",
      "ax = fig.add_subplot(111)\n",
      "\n",
      "lns = ax.plot(trips_ma,linewidth=2.5)\n",
      "ax.set_xticks(ticks)\n",
      "ax.set_xticklabels(trips_ma.index[ticks])\n",
      "\n",
      "for label in ax.xaxis.get_ticklabels():\n",
      "    # label is a Text instance\n",
      "    label.set_rotation(45)\n",
      "    \n",
      "ax.set_title('Total Daily Trips, 7D Moving Avg')\n",
      "    \n",
      "show()"
     ],
     "language": "python",
     "metadata": {},
     "outputs": [
      {
       "metadata": {},
       "output_type": "display_data",
       "png": "[encoded data removed]",
       "text": [
        "<matplotlib.figure.Figure at 0xaa1bf70>"
       ]
      }
     ],
     "prompt_number": 38
    },
    {
     "cell_type": "markdown",
     "metadata": {},
     "source": [
      "Trips really ramped up toward the end of July after about a month since Divvy's introduction and continued at high rates until mid-October when they fell off sharply and have declined since then. "
     ]
    },
    {
     "cell_type": "code",
     "collapsed": false,
     "input": [
      "trips_user_ts = trips[['usertype','startdate']].groupby(by=['startdate','usertype']).count()\n",
      "trips_user_ts.rename(columns={'startdate':'trips','usertype':'trips2'},inplace=True)\n",
      "trips_user_ts.reset_index(inplace=True)\n",
      "#trips_user_ts.drop('trips2')\n",
      "#trips_ma = pd.rolling_mean(trips_ts.trips,7)"
     ],
     "language": "python",
     "metadata": {},
     "outputs": [],
     "prompt_number": 39
    },
    {
     "cell_type": "code",
     "collapsed": false,
     "input": [
      "trips_user_pivot = trips_user_ts.pivot(index='startdate',columns='usertype',values='trips')"
     ],
     "language": "python",
     "metadata": {},
     "outputs": [],
     "prompt_number": 40
    },
    {
     "cell_type": "code",
     "collapsed": false,
     "input": [
      "# Plot customers vs subscriber trips\n",
      "ticks = np.arange(0,len(trips_ma),14)\n",
      "fig = plt.figure(figsize=(7,5))\n",
      "ax = fig.add_subplot(111)\n",
      "\n",
      "custs = ax.plot(pd.rolling_mean(trips_user_pivot.Customer, 7),linewidth=2.5)\n",
      "subs = ax.plot(pd.rolling_mean(trips_user_pivot.Subscriber, 7), linewidth=2.5)\n",
      "\n",
      "ax.set_xticks(ticks)\n",
      "ax.set_xticklabels(trips_user_pivot.index[ticks])\n",
      "\n",
      "for label in ax.xaxis.get_ticklabels():\n",
      "    # label is a Text instance\n",
      "    label.set_rotation(45)\n",
      "    \n",
      "ax.set_title(\"Customer and Subscriber Daily Trips, 7D Moving Avg\")\n",
      "\n",
      "show()"
     ],
     "language": "python",
     "metadata": {},
     "outputs": [
      {
       "metadata": {},
       "output_type": "display_data",
       "png": "[encoded data removed]",
       "text": [
        "<matplotlib.figure.Figure at 0xaa1be70>"
       ]
      }
     ],
     "prompt_number": 41
    },
    {
     "cell_type": "markdown",
     "metadata": {},
     "source": [
      "Day pass holder trips fell off sharply after the end of tourist season while subscriber trips have declined at a much slower rate with the onset of cold weather. During the holiday period in December subscribers were averaging several hundred trips per day in adversse conditions."
     ]
    },
    {
     "cell_type": "code",
     "collapsed": false,
     "input": [],
     "language": "python",
     "metadata": {},
     "outputs": [],
     "prompt_number": 22
    }
   ],
   "metadata": {}
  }
 ]
}